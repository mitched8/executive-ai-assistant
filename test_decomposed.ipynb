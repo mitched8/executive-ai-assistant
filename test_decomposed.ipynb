{
 "cells": [
  {
   "cell_type": "markdown",
   "metadata": {},
   "source": [
    "# Executive AI Assistant - System Walkthrough\n",
    "# =========================================\n",
    "\n",
    "# [MARKDOWN CELL]\n",
    "# # 1. Setup and Configuration\n",
    "# -------------------------\n",
    "# This section sets up our environment and imports necessary libraries.\n"
   ]
  },
  {
   "cell_type": "code",
   "execution_count": 1,
   "metadata": {},
   "outputs": [],
   "source": [
    "import os\n",
    "from pathlib import Path\n",
    "from datetime import datetime, timedelta\n",
    "import base64\n",
    "from email.mime.multipart import MIMEMultipart\n",
    "from email.mime.text import MIMEText\n",
    "import email.utils\n",
    "import pytz\n",
    "from google.oauth2.credentials import Credentials\n",
    "from google_auth_oauthlib.flow import InstalledAppFlow\n",
    "from google.auth.transport.requests import Request\n",
    "from googleapiclient.discovery import build\n"
   ]
  },
  {
   "cell_type": "code",
   "execution_count": 2,
   "metadata": {},
   "outputs": [],
   "source": [
    "from dotenv import load_dotenv\n",
    "load_dotenv()\n",
    "\n",
    "os.environ[\"OPENAI_API_KEY\"] = os.getenv(\"OPENAI_API_KEY\")\n",
    "os.environ[\"ANTHROPIC_API_KEY\"] = os.getenv(\"ANTHROPIC_API_KEY\")\n"
   ]
  },
  {
   "cell_type": "code",
   "execution_count": 7,
   "metadata": {},
   "outputs": [],
   "source": [
    "# # 2. Gmail Authentication\n",
    "# ----------------------\n",
    "# This section handles the Gmail OAuth2 flow and service creation.\n",
    "\n",
    "# [CODE CELL]\n",
    "def setup_gmail_credentials():\n",
    "    \"\"\"Setup Gmail credentials and return the service object\"\"\"\n",
    "    \n",
    "    # Define the scopes we need\n",
    "    SCOPES = [\n",
    "        \"https://www.googleapis.com/auth/gmail.modify\",\n",
    "        \"https://www.googleapis.com/auth/calendar\",\n",
    "    ]\n",
    "    \n",
    "    # Setup paths\n",
    "    secrets_dir = Path(\"eaia/.secrets\")\n",
    "    #secrets_dir.mkdir(exist_ok=True)\n",
    "    secrets_path = secrets_dir / \"secrets.json\"\n",
    "    token_path = secrets_dir / \"token.json\"\n",
    "    \n",
    "    creds = None\n",
    "    \n",
    "    # Try to load existing credentials\n",
    "    if token_path.exists():\n",
    "        creds = Credentials.from_authorized_user_file(str(token_path))\n",
    "    \n",
    "    # If credentials don't exist or are invalid, get new ones\n",
    "    if not creds or not creds.valid:\n",
    "        if creds and creds.expired and creds.refresh_token:\n",
    "            creds.refresh(Request())\n",
    "        else:\n",
    "            flow = InstalledAppFlow.from_client_secrets_file(str(secrets_path), SCOPES)\n",
    "            creds = flow.run_local_server(port=54191)\n",
    "        \n",
    "        # Save the credentials\n",
    "        with open(token_path, \"w\") as token:\n",
    "            token.write(creds.to_json())\n",
    "    \n",
    "    # Build and return the Gmail service\n",
    "    return build(\"gmail\", \"v1\", credentials=creds)\n"
   ]
  },
  {
   "cell_type": "code",
   "execution_count": 55,
   "metadata": {},
   "outputs": [],
   "source": [
    "# # 3. Email Retrieval\n",
    "# -----------------\n",
    "# This section handles fetching and processing emails from Gmail.\n",
    "\n",
    "# [CODE CELL]\n",
    "def extract_message_part(msg):\n",
    "    \"\"\"Extract the message body from an email\"\"\"\n",
    "    if msg[\"mimeType\"] == \"text/plain\":\n",
    "        body_data = msg.get(\"body\", {}).get(\"data\")\n",
    "        if body_data:\n",
    "            return base64.urlsafe_b64decode(body_data).decode(\"utf-8\")\n",
    "    elif msg[\"mimeType\"] == \"text/html\":\n",
    "        body_data = msg.get(\"body\", {}).get(\"data\")\n",
    "        if body_data:\n",
    "            return base64.urlsafe_b64decode(body_data).decode(\"utf-8\")\n",
    "    if \"parts\" in msg:\n",
    "        for part in msg[\"parts\"]:\n",
    "            body = extract_message_part(part)\n",
    "            if body:\n",
    "                return body\n",
    "    return \"No message body available.\"\n",
    "\n"
   ]
  },
  {
   "cell_type": "code",
   "execution_count": 56,
   "metadata": {},
   "outputs": [],
   "source": [
    "def fetch_emails(service, email_address, minutes_since=240):\n",
    "    \"\"\"Fetch emails from Gmail with enhanced error handling\n",
    "    \n",
    "    Args:\n",
    "        service: Gmail API service instance\n",
    "        email_address: Email address to fetch emails for\n",
    "        minutes_since: How many minutes back to fetch emails (default 240)\n",
    "        \n",
    "    Yields:\n",
    "        dict: Email data including id, thread_id, subject, from_email, to_email, page_content, send_time\n",
    "        \n",
    "    Raises:\n",
    "        ValueError: If email_address is invalid\n",
    "        googleapiclient.errors.HttpError: For Gmail API errors\n",
    "        Exception: For unexpected errors\n",
    "    \"\"\"\n",
    "    if not email_address or '@' not in email_address:\n",
    "        raise ValueError(\"Invalid email address provided\")\n",
    "        \n",
    "    try:\n",
    "        print(\"fetching emails\")\n",
    "        \n",
    "        # Calculate the timestamp for filtering\n",
    "        after = int((datetime.now() - timedelta(minutes=minutes_since)).timestamp())\n",
    "        \n",
    "        # Build the query\n",
    "        query = f\"(to:{email_address} OR from:{email_address}) after:{after}\"\n",
    "        print(f\"Query: {query}\")\n",
    "        \n",
    "        # Fetch messages\n",
    "        messages = []\n",
    "        next_page_token = None\n",
    "        \n",
    "        while True:\n",
    "            try:\n",
    "                results = service.users().messages().list(\n",
    "                    userId=\"me\",\n",
    "                    q=query,\n",
    "                    pageToken=next_page_token\n",
    "                ).execute()\n",
    "                \n",
    "                if \"messages\" in results:\n",
    "                    messages.extend(results[\"messages\"])\n",
    "                else:\n",
    "                    print(\"No messages found matching the query\")\n",
    "                    break\n",
    "                    \n",
    "                next_page_token = results.get(\"nextPageToken\")\n",
    "                if not next_page_token:\n",
    "                    break\n",
    "                    \n",
    "            except Exception as e:\n",
    "                print(f\"Error fetching message list: {str(e)}\")\n",
    "                raise\n",
    "                \n",
    "        # Process each message\n",
    "        for message in messages:\n",
    "            try:\n",
    "                print(f\"Processing message ID: {message['id']}\")\n",
    "                msg = service.users().messages().get(\n",
    "                    userId=\"me\",\n",
    "                    id=message[\"id\"]\n",
    "                ).execute()\n",
    "                \n",
    "                thread_id = msg[\"threadId\"]\n",
    "                payload = msg[\"payload\"]\n",
    "                headers = payload.get(\"headers\", [])\n",
    "                \n",
    "                # Extract email details with error handling\n",
    "                try:\n",
    "                    subject = next(\n",
    "                        (header[\"value\"] for header in headers if header[\"name\"] == \"Subject\"),\n",
    "                        \"No Subject\"\n",
    "                    )\n",
    "                except Exception as e:\n",
    "                    print(f\"Error extracting subject: {str(e)}\")\n",
    "                    subject = \"No Subject\"\n",
    "                    \n",
    "                try:\n",
    "                    from_email = next(\n",
    "                        (header[\"value\"] for header in headers if header[\"name\"] == \"From\"),\n",
    "                        \"\"\n",
    "                    ).strip()\n",
    "                except Exception as e:\n",
    "                    print(f\"Error extracting from_email: {str(e)}\")\n",
    "                    from_email = \"\"\n",
    "                    \n",
    "                try:\n",
    "                    to_email = next(\n",
    "                        (header[\"value\"] for header in headers if header[\"name\"] == \"To\"),\n",
    "                        \"\"\n",
    "                    ).strip()\n",
    "                except Exception as e:\n",
    "                    print(f\"Error extracting to_email: {str(e)}\")\n",
    "                    to_email = \"\"\n",
    "                    \n",
    "                # Get the message body with error handling\n",
    "                try:\n",
    "                    body = extract_message_part(payload)\n",
    "                except Exception as e:\n",
    "                    print(f\"Error extracting message body: {str(e)}\")\n",
    "                    body = \"Error extracting message body\"\n",
    "                \n",
    "                print(f\"Successfully processed email: {subject}\")\n",
    "                \n",
    "                # Yield the email data\n",
    "                yield {\n",
    "                    \"id\": message[\"id\"],\n",
    "                    \"thread_id\": thread_id,\n",
    "                    \"subject\": subject,\n",
    "                    \"from_email\": from_email,\n",
    "                    \"to_email\": to_email,\n",
    "                    \"page_content\": body,\n",
    "                    \"send_time\": datetime.now().isoformat()\n",
    "                }\n",
    "                \n",
    "            except Exception as e:\n",
    "                print(f\"Error processing message {message.get('id', 'unknown')}: {str(e)}\")\n",
    "                continue  # Skip this message and continue with the next one\n",
    "                \n",
    "    except Exception as e:\n",
    "        print(f\"Fatal error in fetch_emails: {str(e)}\")\n",
    "        raise  # Re-raise the exception for the caller to handle"
   ]
  },
  {
   "cell_type": "code",
   "execution_count": 19,
   "metadata": {},
   "outputs": [],
   "source": [
    "# # 4. Graph Creation and Processing\n",
    "# ------------------------------\n",
    "# This section creates the workflow graph for processing emails.\n",
    "\n",
    "# [CODE CELL]\n",
    "from langgraph.graph import StateGraph\n",
    "from typing import TypedDict, Annotated\n",
    "from typing_extensions import TypedDict\n",
    "\n",
    "# Define our state\n",
    "class State(TypedDict):\n",
    "    email: dict\n",
    "    response: str | None\n",
    "    next: str\n",
    "\n",
    "# [CODE CELL]\n",
    "# Define our nodes\n",
    "def triage_email(state: State) -> State:\n",
    "    \"\"\"Triage the email to determine next action\"\"\"\n",
    "    print(\"triage\")\n",
    "    # In a real implementation, this would use an LLM to analyze the email\n",
    "    # and determine if it needs immediate attention, can be handled by the AI,\n",
    "    # or should be ignored\n",
    "    return state\n",
    "\n",
    "def draft_response(state: State) -> State:\n",
    "    \"\"\"Draft a response to the email\"\"\"\n",
    "    print(\"draft\")\n",
    "    # In a real implementation, this would use an LLM to generate a response\n",
    "    return state\n",
    "\n",
    "def send_email(state: State) -> State:\n",
    "    \"\"\"Send the drafted response\"\"\"\n",
    "    print(\"send\")\n",
    "    # In a real implementation, this would use the Gmail API to send the email\n",
    "    return state\n",
    "\n",
    "# [CODE CELL]\n",
    "# Create the graph\n",
    "def create_graph():\n",
    "    workflow = StateGraph(State)\n",
    "    \n",
    "    # Add nodes\n",
    "    workflow.add_node(\"triage\", triage_email)\n",
    "    workflow.add_node(\"draft\", draft_response)\n",
    "    workflow.add_node(\"send\", send_email)\n",
    "    \n",
    "    # Add edges\n",
    "    workflow.add_edge(\"triage\", \"draft\")\n",
    "    workflow.add_edge(\"draft\", \"send\")\n",
    "    \n",
    "    # Set entry point\n",
    "    workflow.set_entry_point(\"triage\")\n",
    "    \n",
    "    return workflow.compile()\n"
   ]
  },
  {
   "cell_type": "code",
   "execution_count": 8,
   "metadata": {},
   "outputs": [
    {
     "name": "stdout",
     "output_type": "stream",
     "text": [
      "Please visit this URL to authorize this application: https://accounts.google.com/o/oauth2/auth?response_type=code&client_id=583696102042-si5jc6463o7h7ul03a3p4r4ljejnh9qu.apps.googleusercontent.com&redirect_uri=http%3A%2F%2Flocalhost%3A54191%2F&scope=https%3A%2F%2Fwww.googleapis.com%2Fauth%2Fgmail.modify+https%3A%2F%2Fwww.googleapis.com%2Fauth%2Fcalendar&state=cDjcPkHnO9JgI1XzGAu2LB87tXtTCD&access_type=offline\n"
     ]
    }
   ],
   "source": [
    "# Setup Gmail service\n",
    "service = setup_gmail_credentials()\n"
   ]
  },
  {
   "cell_type": "code",
   "execution_count": 9,
   "metadata": {},
   "outputs": [],
   "source": [
    "\n",
    "\n",
    "# Create the graph\n",
    "graph = create_graph()"
   ]
  },
  {
   "cell_type": "code",
   "execution_count": 71,
   "metadata": {},
   "outputs": [
    {
     "data": {
      "text/plain": [
       "<coroutine object Pregel.ainvoke at 0x107627610>"
      ]
     },
     "execution_count": 71,
     "metadata": {},
     "output_type": "execute_result"
    }
   ],
   "source": [
    "graph.ainvoke({\"email\": email})"
   ]
  },
  {
   "cell_type": "code",
   "execution_count": 57,
   "metadata": {},
   "outputs": [],
   "source": [
    "email_address = \"daniel.mitchell80@gmail.com\"\n",
    "emails = fetch_emails(service, email_address)"
   ]
  },
  {
   "cell_type": "code",
   "execution_count": 65,
   "metadata": {},
   "outputs": [
    {
     "name": "stdout",
     "output_type": "stream",
     "text": [
      "fetching emails\n",
      "Query: (to:daniel.mitchell80@gmail.com OR from:daniel.mitchell80@gmail.com) after:1749844048\n",
      "Processing message ID: 1976bf479d2664fc\n",
      "Successfully processed email: GoHenry payment received\n",
      "email\n",
      "Processing message ID: 1976ae1ab31ad851\n",
      "Successfully processed email: Blood sugar 101\n",
      "email\n"
     ]
    }
   ],
   "source": [
    "\n",
    "for email in fetch_emails(service, email_address,600): \n",
    "    print(\"email\")"
   ]
  },
  {
   "cell_type": "code",
   "execution_count": 67,
   "metadata": {},
   "outputs": [
    {
     "data": {
      "text/plain": [
       "{'id': '1976bf479d2664fc',\n",
       " 'thread_id': '1976bf479d2664fc',\n",
       " 'subject': 'GoHenry payment received',\n",
       " 'from_email': '\"GoHenry <gohenry >\" <help@gohenry.co.uk>',\n",
       " 'to_email': 'Daniel Mitchell <daniel.mitchell80@gmail.com>',\n",
       " 'page_content': \"gohenry ( https://u12691297.ct.sendgrid.net/ls/click?upn=u001.kDtu8mhMMXNPo7lwWXePycCdJSy4-2Fe-2F7jU36tGcgLaQ-3Df49q_E3jX7UdwUvWW16GmiaKN7LXL8DKvWmCEscS6-2Bk2HuksqVhlP-2Ba4MRMviPAkRZCh2q5NfQQ36G4URzb8mLlG3jc-2BFQMM-2BmHeQDIwCI8yVQzMt-2Bonoe9Cpf-2F8Flsjd1TO6L9c7VXT9iQVUXGAO8-2Fwaiav-2FFB01DW-2BLnZJcYPGClqjRI-2F-2B9ynmxyzPY-2FEhnjF-2F2NqG3j-2BrRASwHXNj7sFK11mK9XdeP-2BwZhqrxIWdsvXWGt8K2O9RIwByKJv9q9rtUdeU-2FWPFlYupcJe1DKJBman0HwebExqj64zcwvB-2FnXeRvsPeptfgCHXl1E2QfD5Gr3-2FTWTrxFaJFk-2FxwV-2F2G4PksGigv8UcnKjuZ5nj-2B5IgPeiG8qmpqG3-2FCbvkhPHmad6 )\\r\\n\\r\\nHi Daniel,\\r\\n\\r\\nWe'd like to confirm receipt of the following funds to your GoHenry parent account:\\r\\n\\r\\nAmount Paid: £23.98\\r\\nService charge: £0.50\\r\\nTotal: £24.48\\r\\n\\r\\nYou can view this transaction on your GoHenry parent statement.\\r\\n\\r\\nHow top-up fees work\\r\\n\\r\\nThe first top-up in a calendar month is always free with Everyday memberships. After that, any extra top-ups in the month are £0.50 each. You can avoid the service charge by making a single top-up per month that covers your membership fee and pocket money for the month.\\r\\n\\r\\nThere are no top-up fees with Plus memberships.\\r\\n\\r\\nGet the GoHenry app\\r\\nReal-time spending notifications for you, and in-app\\r\\nlearning for kids\\r\\n\\r\\nApp Store ( https://u12691297.ct.sendgrid.net/ls/click?upn=u001.kDtu8mhMMXNPo7lwWXePyW2pH7SR3OzggrMPLeQA8dZ0QxCiile8JtohpqZOhT8oudXPHg6uxEf3jJYt0Y7LmWasYfgx41vxTgAqUGww3ls-3DKDDw_E3jX7UdwUvWW16GmiaKN7LXL8DKvWmCEscS6-2Bk2HuksqVhlP-2Ba4MRMviPAkRZCh2q5NfQQ36G4URzb8mLlG3jc-2BFQMM-2BmHeQDIwCI8yVQzMt-2Bonoe9Cpf-2F8Flsjd1TO6L9c7VXT9iQVUXGAO8-2Fwaiav-2FFB01DW-2BLnZJcYPGClqjRI-2F-2B9ynmxyzPY-2FEhnjF-2F2NqG3j-2BrRASwHXNj7sFK11mK9XdeP-2BwZhqrxIWdsvXWG6eVuHe1PTPcvqdfwWiKcxhmxiBmRmh4zM08r0STFgYXAUqtO0QyaINF9JomqFWQez74jGRWd3MZhvEavw-2FlKy6M1G7zG-2FhXoFY7nV22pvpzA9EGjHcit05ns1IVP90zld7LpCosQrbiJ9YaVqoJ4c ) Google Play ( https://u12691297.ct.sendgrid.net/ls/click?upn=u001.kDtu8mhMMXNPo7lwWXePyaCLk3pztG-2F-2FatODg6kNdsCVb186qC6e9wewSXD54Ao2N0cLV9eL-2BPYqBlDWK01BWtJ00Z0lycRxnReyvd9YjVW3rTUGK6H05ZWcl2JD2J1rL6Ha_E3jX7UdwUvWW16GmiaKN7LXL8DKvWmCEscS6-2Bk2HuksqVhlP-2Ba4MRMviPAkRZCh2q5NfQQ36G4URzb8mLlG3jc-2BFQMM-2BmHeQDIwCI8yVQzMt-2Bonoe9Cpf-2F8Flsjd1TO6L9c7VXT9iQVUXGAO8-2Fwaiav-2FFB01DW-2BLnZJcYPGClqjRI-2F-2B9ynmxyzPY-2FEhnjF-2F2NqG3j-2BrRASwHXNj7sFK11mK9XdeP-2BwZhqrxIWdsvXWF5pHJIxWqUr-2FZvUqYpYx8y8ppCnNTtKk7CXmV0kS0flvEPMx8ktH61LaMjOhNiQeibw4Rcwm7kZKUrWy8IS-2BVvofcRx6AzsgDo2lZDBwKfxGYIKoY1i2dPoiXoiHZLKV6fYtbcVRyQHBmp7WiXQ7cn )\\r\\n\\r\\nFacebook ( https://u12691297.ct.sendgrid.net/ls/click?upn=u001.kDtu8mhMMXNPo7lwWXePyRf4zFfFjp5BkZo-2FSqTbADYBf0HPT9XzzIS2DL45V1ctKFpS_E3jX7UdwUvWW16GmiaKN7LXL8DKvWmCEscS6-2Bk2HuksqVhlP-2Ba4MRMviPAkRZCh2q5NfQQ36G4URzb8mLlG3jc-2BFQMM-2BmHeQDIwCI8yVQzMt-2Bonoe9Cpf-2F8Flsjd1TO6L9c7VXT9iQVUXGAO8-2Fwaiav-2FFB01DW-2BLnZJcYPGClqjRI-2F-2B9ynmxyzPY-2FEhnjF-2F2NqG3j-2BrRASwHXNj7sFK11mK9XdeP-2BwZhqrxIWdsvXWHOPRoq6VY8l6HwjPALSVYvFbEHCW5aJJOEvNJRfuoYU8pw8db8LCNR-2BoYk5c9oT4qKPtVYWC-2Fctsrvcl51-2FryDblab-2B2UAAs1G1PyRn-2BpoeCjv4fz9bUmRXFduX06e7-2B3FZg-2FWV2gcFfZiMJu8NlxL ) Twitter ( https://u12691297.ct.sendgrid.net/ls/click?upn=u001.kDtu8mhMMXNPo7lwWXePycv9b7CHWP11WKVSOnB3-2BODp1Z3s-2BDX-2FGTbWEj-2BOLTGzlW9I_E3jX7UdwUvWW16GmiaKN7LXL8DKvWmCEscS6-2Bk2HuksqVhlP-2Ba4MRMviPAkRZCh2q5NfQQ36G4URzb8mLlG3jc-2BFQMM-2BmHeQDIwCI8yVQzMt-2Bonoe9Cpf-2F8Flsjd1TO6L9c7VXT9iQVUXGAO8-2Fwaiav-2FFB01DW-2BLnZJcYPGClqjRI-2F-2B9ynmxyzPY-2FEhnjF-2F2NqG3j-2BrRASwHXNj7sFK11mK9XdeP-2BwZhqrxIWdsvXWEguvDl7xmwCNhlduea13L-2FqbfvodwrgOO1Cc8N0dbw6-2BJNXZerGrqoZfV7gIL-2FvQczEI-2FwMGrpU51XRCC4VDUoDoMZM2eHzaRbvv1r9W5W0bo-2F-2Bpth2oapM5mvc3ZzHEJ1DwLy4qVp5phk7WO-2F077q ) Instagram ( https://u12691297.ct.sendgrid.net/ls/click?upn=u001.kDtu8mhMMXNPo7lwWXePyaQjmW1sSDhUOHs-2F1UOqZ9cZzrbAk6ZphxeyZTmZTXQbx187uLViGDvn4RLN3EllZA-3D-3DhUuR_E3jX7UdwUvWW16GmiaKN7LXL8DKvWmCEscS6-2Bk2HuksqVhlP-2Ba4MRMviPAkRZCh2q5NfQQ36G4URzb8mLlG3jc-2BFQMM-2BmHeQDIwCI8yVQzMt-2Bonoe9Cpf-2F8Flsjd1TO6L9c7VXT9iQVUXGAO8-2Fwaiav-2FFB01DW-2BLnZJcYPGClqjRI-2F-2B9ynmxyzPY-2FEhnjF-2F2NqG3j-2BrRASwHXNj7sFK11mK9XdeP-2BwZhqrxIWdsvXWG4sVJDxoa-2Bkykn92rdzy2CsiuKTv-2FQFpdHJRdNvgZ2yilcRmqXNduC8ZbbUjm0M1nKDKo3C-2FXfvrMSQFy7SkesoHemzLfRIPZRyLX7n8mv9TMj5iNs3lDdvYb2e-2Bq4fXjYnzZRG9BmOWi22ZwmBYt9 ) YouTube ( https://u12691297.ct.sendgrid.net/ls/click?upn=u001.kDtu8mhMMXNPo7lwWXePyYtRUDlutA587ZufoYcOpx8rjc2ygZhbeS7vKl7mmylNSLV11aT2M1h-2FWjFpaGLeOg-3D-3DUsm2_E3jX7UdwUvWW16GmiaKN7LXL8DKvWmCEscS6-2Bk2HuksqVhlP-2Ba4MRMviPAkRZCh2q5NfQQ36G4URzb8mLlG3jc-2BFQMM-2BmHeQDIwCI8yVQzMt-2Bonoe9Cpf-2F8Flsjd1TO6L9c7VXT9iQVUXGAO8-2Fwaiav-2FFB01DW-2BLnZJcYPGClqjRI-2F-2B9ynmxyzPY-2FEhnjF-2F2NqG3j-2BrRASwHXNj7sFK11mK9XdeP-2BwZhqrxIWdsvXWEe16-2FIgD5ZlP0UR9IT5LaWpiNHPkN-2FPvW5Sub87A0D6O8dD3AkcGrH9WgW7Dedyr1wZhHBQBwobHaSzz9pFpZHYBsFmN2mFMBAen8VfRs5WUOEbXkEgU3Gdet-2FWTqtcYftAayrmpILrYXCvt6gf1NR ) www.gohenry.com ( https://u12691297.ct.sendgrid.net/ls/click?upn=u001.kDtu8mhMMXNPo7lwWXePyYX5eKiVJgG-2BQDwoVY2X-2FVieVi2DUzcI-2B-2BUs3T2IoLA2WkgN_E3jX7UdwUvWW16GmiaKN7LXL8DKvWmCEscS6-2Bk2HuksqVhlP-2Ba4MRMviPAkRZCh2q5NfQQ36G4URzb8mLlG3jc-2BFQMM-2BmHeQDIwCI8yVQzMt-2Bonoe9Cpf-2F8Flsjd1TO6L9c7VXT9iQVUXGAO8-2Fwaiav-2FFB01DW-2BLnZJcYPGClqjRI-2F-2B9ynmxyzPY-2FEhnjF-2F2NqG3j-2BrRASwHXNj7sFK11mK9XdeP-2BwZhqrxIWdsvXWEdNCMlNKpS7CHT1G-2FPA-2B7LihN2CX-2FrRIgwV9HYOQ0mhkh0MvrmrTph5WmcJ-2FvCg1C0nYEKqh-2FwdkGhHy4KX9uywMTl3MhHXjFb0VYJg1wqD3DLtNe-2Fq5gl0AM8sK2ZRupfLPLYrHYrEh7ojIjOBWWW )\\r\\n\\r\\n© GoHenry Limited. All rights reserved.\\r\\n\\r\\nGoHenry is not a bank. The GoHenry card is issued by IDT Financial Services Limited, a principal member of Visa Europe. IDT Financial Services Limited is a regulated bank, licensed by the Gibraltar Financial Services Commission. Registered office: 57-63 Line Wall Road, Gibraltar. Registered No. 95716. All communications should be sent to GoHenry Limited, Spectrum Point, 279 Farnborough Road, Farnborough, GU14 7LS, United Kingdom.\\r\\n\\r\\nThis email communication is a service message, which we send from time to time regarding key updates, downtime and maintenance. As such, you're not able to unsubscribe from this email. However, you can manage your preferences for marketing communications in the GoHenry app.\",\n",
       " 'send_time': '2025-06-14T06:50:27.718448'}"
      ]
     },
     "execution_count": 67,
     "metadata": {},
     "output_type": "execute_result"
    }
   ],
   "source": [
    "email\n"
   ]
  },
  {
   "cell_type": "code",
   "execution_count": 72,
   "metadata": {},
   "outputs": [
    {
     "data": {
      "text/plain": [
       "{'email': {'id': '1976bf479d2664fc',\n",
       "  'thread_id': '1976bf479d2664fc',\n",
       "  'subject': 'GoHenry payment received',\n",
       "  'from_email': '\"GoHenry <gohenry >\" <help@gohenry.co.uk>',\n",
       "  'to_email': 'Daniel Mitchell <daniel.mitchell80@gmail.com>',\n",
       "  'page_content': \"gohenry ( https://u12691297.ct.sendgrid.net/ls/click?upn=u001.kDtu8mhMMXNPo7lwWXePycCdJSy4-2Fe-2F7jU36tGcgLaQ-3Df49q_E3jX7UdwUvWW16GmiaKN7LXL8DKvWmCEscS6-2Bk2HuksqVhlP-2Ba4MRMviPAkRZCh2q5NfQQ36G4URzb8mLlG3jc-2BFQMM-2BmHeQDIwCI8yVQzMt-2Bonoe9Cpf-2F8Flsjd1TO6L9c7VXT9iQVUXGAO8-2Fwaiav-2FFB01DW-2BLnZJcYPGClqjRI-2F-2B9ynmxyzPY-2FEhnjF-2F2NqG3j-2BrRASwHXNj7sFK11mK9XdeP-2BwZhqrxIWdsvXWGt8K2O9RIwByKJv9q9rtUdeU-2FWPFlYupcJe1DKJBman0HwebExqj64zcwvB-2FnXeRvsPeptfgCHXl1E2QfD5Gr3-2FTWTrxFaJFk-2FxwV-2F2G4PksGigv8UcnKjuZ5nj-2B5IgPeiG8qmpqG3-2FCbvkhPHmad6 )\\r\\n\\r\\nHi Daniel,\\r\\n\\r\\nWe'd like to confirm receipt of the following funds to your GoHenry parent account:\\r\\n\\r\\nAmount Paid: £23.98\\r\\nService charge: £0.50\\r\\nTotal: £24.48\\r\\n\\r\\nYou can view this transaction on your GoHenry parent statement.\\r\\n\\r\\nHow top-up fees work\\r\\n\\r\\nThe first top-up in a calendar month is always free with Everyday memberships. After that, any extra top-ups in the month are £0.50 each. You can avoid the service charge by making a single top-up per month that covers your membership fee and pocket money for the month.\\r\\n\\r\\nThere are no top-up fees with Plus memberships.\\r\\n\\r\\nGet the GoHenry app\\r\\nReal-time spending notifications for you, and in-app\\r\\nlearning for kids\\r\\n\\r\\nApp Store ( https://u12691297.ct.sendgrid.net/ls/click?upn=u001.kDtu8mhMMXNPo7lwWXePyW2pH7SR3OzggrMPLeQA8dZ0QxCiile8JtohpqZOhT8oudXPHg6uxEf3jJYt0Y7LmWasYfgx41vxTgAqUGww3ls-3DKDDw_E3jX7UdwUvWW16GmiaKN7LXL8DKvWmCEscS6-2Bk2HuksqVhlP-2Ba4MRMviPAkRZCh2q5NfQQ36G4URzb8mLlG3jc-2BFQMM-2BmHeQDIwCI8yVQzMt-2Bonoe9Cpf-2F8Flsjd1TO6L9c7VXT9iQVUXGAO8-2Fwaiav-2FFB01DW-2BLnZJcYPGClqjRI-2F-2B9ynmxyzPY-2FEhnjF-2F2NqG3j-2BrRASwHXNj7sFK11mK9XdeP-2BwZhqrxIWdsvXWG6eVuHe1PTPcvqdfwWiKcxhmxiBmRmh4zM08r0STFgYXAUqtO0QyaINF9JomqFWQez74jGRWd3MZhvEavw-2FlKy6M1G7zG-2FhXoFY7nV22pvpzA9EGjHcit05ns1IVP90zld7LpCosQrbiJ9YaVqoJ4c ) Google Play ( https://u12691297.ct.sendgrid.net/ls/click?upn=u001.kDtu8mhMMXNPo7lwWXePyaCLk3pztG-2F-2FatODg6kNdsCVb186qC6e9wewSXD54Ao2N0cLV9eL-2BPYqBlDWK01BWtJ00Z0lycRxnReyvd9YjVW3rTUGK6H05ZWcl2JD2J1rL6Ha_E3jX7UdwUvWW16GmiaKN7LXL8DKvWmCEscS6-2Bk2HuksqVhlP-2Ba4MRMviPAkRZCh2q5NfQQ36G4URzb8mLlG3jc-2BFQMM-2BmHeQDIwCI8yVQzMt-2Bonoe9Cpf-2F8Flsjd1TO6L9c7VXT9iQVUXGAO8-2Fwaiav-2FFB01DW-2BLnZJcYPGClqjRI-2F-2B9ynmxyzPY-2FEhnjF-2F2NqG3j-2BrRASwHXNj7sFK11mK9XdeP-2BwZhqrxIWdsvXWF5pHJIxWqUr-2FZvUqYpYx8y8ppCnNTtKk7CXmV0kS0flvEPMx8ktH61LaMjOhNiQeibw4Rcwm7kZKUrWy8IS-2BVvofcRx6AzsgDo2lZDBwKfxGYIKoY1i2dPoiXoiHZLKV6fYtbcVRyQHBmp7WiXQ7cn )\\r\\n\\r\\nFacebook ( https://u12691297.ct.sendgrid.net/ls/click?upn=u001.kDtu8mhMMXNPo7lwWXePyRf4zFfFjp5BkZo-2FSqTbADYBf0HPT9XzzIS2DL45V1ctKFpS_E3jX7UdwUvWW16GmiaKN7LXL8DKvWmCEscS6-2Bk2HuksqVhlP-2Ba4MRMviPAkRZCh2q5NfQQ36G4URzb8mLlG3jc-2BFQMM-2BmHeQDIwCI8yVQzMt-2Bonoe9Cpf-2F8Flsjd1TO6L9c7VXT9iQVUXGAO8-2Fwaiav-2FFB01DW-2BLnZJcYPGClqjRI-2F-2B9ynmxyzPY-2FEhnjF-2F2NqG3j-2BrRASwHXNj7sFK11mK9XdeP-2BwZhqrxIWdsvXWHOPRoq6VY8l6HwjPALSVYvFbEHCW5aJJOEvNJRfuoYU8pw8db8LCNR-2BoYk5c9oT4qKPtVYWC-2Fctsrvcl51-2FryDblab-2B2UAAs1G1PyRn-2BpoeCjv4fz9bUmRXFduX06e7-2B3FZg-2FWV2gcFfZiMJu8NlxL ) Twitter ( https://u12691297.ct.sendgrid.net/ls/click?upn=u001.kDtu8mhMMXNPo7lwWXePycv9b7CHWP11WKVSOnB3-2BODp1Z3s-2BDX-2FGTbWEj-2BOLTGzlW9I_E3jX7UdwUvWW16GmiaKN7LXL8DKvWmCEscS6-2Bk2HuksqVhlP-2Ba4MRMviPAkRZCh2q5NfQQ36G4URzb8mLlG3jc-2BFQMM-2BmHeQDIwCI8yVQzMt-2Bonoe9Cpf-2F8Flsjd1TO6L9c7VXT9iQVUXGAO8-2Fwaiav-2FFB01DW-2BLnZJcYPGClqjRI-2F-2B9ynmxyzPY-2FEhnjF-2F2NqG3j-2BrRASwHXNj7sFK11mK9XdeP-2BwZhqrxIWdsvXWEguvDl7xmwCNhlduea13L-2FqbfvodwrgOO1Cc8N0dbw6-2BJNXZerGrqoZfV7gIL-2FvQczEI-2FwMGrpU51XRCC4VDUoDoMZM2eHzaRbvv1r9W5W0bo-2F-2Bpth2oapM5mvc3ZzHEJ1DwLy4qVp5phk7WO-2F077q ) Instagram ( https://u12691297.ct.sendgrid.net/ls/click?upn=u001.kDtu8mhMMXNPo7lwWXePyaQjmW1sSDhUOHs-2F1UOqZ9cZzrbAk6ZphxeyZTmZTXQbx187uLViGDvn4RLN3EllZA-3D-3DhUuR_E3jX7UdwUvWW16GmiaKN7LXL8DKvWmCEscS6-2Bk2HuksqVhlP-2Ba4MRMviPAkRZCh2q5NfQQ36G4URzb8mLlG3jc-2BFQMM-2BmHeQDIwCI8yVQzMt-2Bonoe9Cpf-2F8Flsjd1TO6L9c7VXT9iQVUXGAO8-2Fwaiav-2FFB01DW-2BLnZJcYPGClqjRI-2F-2B9ynmxyzPY-2FEhnjF-2F2NqG3j-2BrRASwHXNj7sFK11mK9XdeP-2BwZhqrxIWdsvXWG4sVJDxoa-2Bkykn92rdzy2CsiuKTv-2FQFpdHJRdNvgZ2yilcRmqXNduC8ZbbUjm0M1nKDKo3C-2FXfvrMSQFy7SkesoHemzLfRIPZRyLX7n8mv9TMj5iNs3lDdvYb2e-2Bq4fXjYnzZRG9BmOWi22ZwmBYt9 ) YouTube ( https://u12691297.ct.sendgrid.net/ls/click?upn=u001.kDtu8mhMMXNPo7lwWXePyYtRUDlutA587ZufoYcOpx8rjc2ygZhbeS7vKl7mmylNSLV11aT2M1h-2FWjFpaGLeOg-3D-3DUsm2_E3jX7UdwUvWW16GmiaKN7LXL8DKvWmCEscS6-2Bk2HuksqVhlP-2Ba4MRMviPAkRZCh2q5NfQQ36G4URzb8mLlG3jc-2BFQMM-2BmHeQDIwCI8yVQzMt-2Bonoe9Cpf-2F8Flsjd1TO6L9c7VXT9iQVUXGAO8-2Fwaiav-2FFB01DW-2BLnZJcYPGClqjRI-2F-2B9ynmxyzPY-2FEhnjF-2F2NqG3j-2BrRASwHXNj7sFK11mK9XdeP-2BwZhqrxIWdsvXWEe16-2FIgD5ZlP0UR9IT5LaWpiNHPkN-2FPvW5Sub87A0D6O8dD3AkcGrH9WgW7Dedyr1wZhHBQBwobHaSzz9pFpZHYBsFmN2mFMBAen8VfRs5WUOEbXkEgU3Gdet-2FWTqtcYftAayrmpILrYXCvt6gf1NR ) www.gohenry.com ( https://u12691297.ct.sendgrid.net/ls/click?upn=u001.kDtu8mhMMXNPo7lwWXePyYX5eKiVJgG-2BQDwoVY2X-2FVieVi2DUzcI-2B-2BUs3T2IoLA2WkgN_E3jX7UdwUvWW16GmiaKN7LXL8DKvWmCEscS6-2Bk2HuksqVhlP-2Ba4MRMviPAkRZCh2q5NfQQ36G4URzb8mLlG3jc-2BFQMM-2BmHeQDIwCI8yVQzMt-2Bonoe9Cpf-2F8Flsjd1TO6L9c7VXT9iQVUXGAO8-2Fwaiav-2FFB01DW-2BLnZJcYPGClqjRI-2F-2B9ynmxyzPY-2FEhnjF-2F2NqG3j-2BrRASwHXNj7sFK11mK9XdeP-2BwZhqrxIWdsvXWEdNCMlNKpS7CHT1G-2FPA-2B7LihN2CX-2FrRIgwV9HYOQ0mhkh0MvrmrTph5WmcJ-2FvCg1C0nYEKqh-2FwdkGhHy4KX9uywMTl3MhHXjFb0VYJg1wqD3DLtNe-2Fq5gl0AM8sK2ZRupfLPLYrHYrEh7ojIjOBWWW )\\r\\n\\r\\n© GoHenry Limited. All rights reserved.\\r\\n\\r\\nGoHenry is not a bank. The GoHenry card is issued by IDT Financial Services Limited, a principal member of Visa Europe. IDT Financial Services Limited is a regulated bank, licensed by the Gibraltar Financial Services Commission. Registered office: 57-63 Line Wall Road, Gibraltar. Registered No. 95716. All communications should be sent to GoHenry Limited, Spectrum Point, 279 Farnborough Road, Farnborough, GU14 7LS, United Kingdom.\\r\\n\\r\\nThis email communication is a service message, which we send from time to time regarding key updates, downtime and maintenance. As such, you're not able to unsubscribe from this email. However, you can manage your preferences for marketing communications in the GoHenry app.\",\n",
       "  'send_time': '2025-06-14T06:50:27.718448'}}"
      ]
     },
     "execution_count": 72,
     "metadata": {},
     "output_type": "execute_result"
    }
   ],
   "source": [
    "graph.invoke({\"email\": email})"
   ]
  },
  {
   "cell_type": "code",
   "execution_count": 66,
   "metadata": {},
   "outputs": [
    {
     "name": "stdout",
     "output_type": "stream",
     "text": [
      "fetching emails\n",
      "Query: (to:daniel.mitchell80@gmail.com OR from:daniel.mitchell80@gmail.com) after:1749844227\n",
      "Processing message ID: 1976bf479d2664fc\n",
      "Successfully processed email: GoHenry payment received\n",
      "got email\n",
      "GoHenry payment received\n"
     ]
    },
    {
     "ename": "KeyError",
     "evalue": "'next'",
     "output_type": "error",
     "traceback": [
      "\u001b[31m---------------------------------------------------------------------------\u001b[39m",
      "\u001b[31mKeyError\u001b[39m                                  Traceback (most recent call last)",
      "\u001b[36mCell\u001b[39m\u001b[36m \u001b[39m\u001b[32mIn[66]\u001b[39m\u001b[32m, line 16\u001b[39m\n\u001b[32m     13\u001b[39m result = \u001b[38;5;28;01mawait\u001b[39;00m graph.ainvoke({\u001b[33m\"\u001b[39m\u001b[33memail\u001b[39m\u001b[33m\"\u001b[39m: email})\n\u001b[32m     15\u001b[39m \u001b[38;5;66;03m# Handle the result\u001b[39;00m\n\u001b[32m---> \u001b[39m\u001b[32m16\u001b[39m \u001b[38;5;28;01mif\u001b[39;00m \u001b[43mresult\u001b[49m\u001b[43m[\u001b[49m\u001b[33;43m\"\u001b[39;49m\u001b[33;43mnext\u001b[39;49m\u001b[33;43m\"\u001b[39;49m\u001b[43m]\u001b[49m == \u001b[33m\"\u001b[39m\u001b[33msend\u001b[39m\u001b[33m\"\u001b[39m:\n\u001b[32m     17\u001b[39m     \u001b[38;5;66;03m# Send the email\u001b[39;00m\n\u001b[32m     18\u001b[39m     \u001b[38;5;28;01mpass\u001b[39;00m\n",
      "\u001b[31mKeyError\u001b[39m: 'next'"
     ]
    }
   ],
   "source": [
    "# # 5. Running the System\n",
    "# --------------------\n",
    "# This section ties everything together and runs the complete system.\n",
    "\n",
    "# [CODE CELL]\n",
    "\n",
    "# Fetch and process emails\n",
    "email_address = \"daniel.mitchell80@gmail.com\"\n",
    "for email in fetch_emails(service, email_address,600):\n",
    "    # Process the email through our graph\n",
    "    print(\"got email\")\n",
    "    print(email[\"subject\"])\n",
    "    result = await graph.ainvoke({\"email\": email})\n",
    "    \n",
    "    # Handle the result\n",
    "    if result[\"next\"] == \"send\":\n",
    "        # Send the email\n",
    "        pass\n",
    "\n"
   ]
  },
  {
   "cell_type": "code",
   "execution_count": 23,
   "metadata": {},
   "outputs": [
    {
     "data": {
      "text/plain": [
       "'(to:daniel.mitchell80@gmail.com OR from:daniel.mitchell80@gmail.com) after:1749862380'"
      ]
     },
     "execution_count": 23,
     "metadata": {},
     "output_type": "execute_result"
    }
   ],
   "source": [
    "minutes_since = 240   \n",
    "# Calculate the timestamp for filtering\n",
    "after = int((datetime.now() - timedelta(minutes=minutes_since)).timestamp())\n",
    "\n",
    "# Build the query\n",
    "query = f\"(to:{email_address} OR from:{email_address}) after:{after}\"\n",
    "query \n"
   ]
  },
  {
   "cell_type": "code",
   "execution_count": 24,
   "metadata": {},
   "outputs": [],
   "source": [
    "\n",
    "\n",
    "# Fetch messages\n",
    "messages = []\n",
    "next_page_token = None\n",
    "\n",
    "while True:\n",
    "    results = service.users().messages().list(\n",
    "        userId=\"me\",\n",
    "        q=query,\n",
    "        pageToken=next_page_token\n",
    "    ).execute()\n",
    "    \n",
    "    if \"messages\" in results:\n",
    "        messages.extend(results[\"messages\"])\n",
    "    \n",
    "    next_page_token = results.get(\"nextPageToken\")\n",
    "    if not next_page_token:\n",
    "        break"
   ]
  },
  {
   "cell_type": "code",
   "execution_count": 33,
   "metadata": {},
   "outputs": [],
   "source": [
    "message = messages[0]\n",
    "\n",
    "msg = service.users().messages().get(\n",
    "    userId=\"me\",\n",
    "    id=message[\"id\"]\n",
    ").execute()"
   ]
  },
  {
   "cell_type": "code",
   "execution_count": 36,
   "metadata": {},
   "outputs": [],
   "source": [
    "\n",
    "thread_id = msg[\"threadId\"]\n",
    "payload = msg[\"payload\"]\n",
    "headers = payload.get(\"headers\", [])\n",
    "\n",
    "# Extract email details\n",
    "subject = next(\n",
    "    (header[\"value\"] for header in headers if header[\"name\"] == \"Subject\"),\n",
    "    \"No Subject\"\n",
    ")\n",
    "from_email = next(\n",
    "    (header[\"value\"] for header in headers if header[\"name\"] == \"From\"),\n",
    "    \"\"\n",
    ").strip()\n",
    "to_email = next(\n",
    "    (header[\"value\"] for header in headers if header[\"name\"] == \"To\"),\n",
    "    \"\"\n",
    ").strip()\n",
    "\n",
    "# Get the message body\n",
    "body = extract_message_part(payload)\n",
    "\n",
    "\n"
   ]
  }
 ],
 "metadata": {
  "kernelspec": {
   "display_name": ".venv",
   "language": "python",
   "name": "python3"
  },
  "language_info": {
   "codemirror_mode": {
    "name": "ipython",
    "version": 3
   },
   "file_extension": ".py",
   "mimetype": "text/x-python",
   "name": "python",
   "nbconvert_exporter": "python",
   "pygments_lexer": "ipython3",
   "version": "3.13.2"
  }
 },
 "nbformat": 4,
 "nbformat_minor": 2
}
